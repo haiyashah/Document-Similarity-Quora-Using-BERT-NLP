{
  "cells": [
    {
      "cell_type": "code",
      "execution_count": null,
      "id": "06c9de64",
      "metadata": {
        "_cell_guid": "b1076dfc-b9ad-4769-8c92-a6c4dae69d19",
        "_uuid": "8f2839f25d086af736a60e9eeb907d3b93b6e0e5",
        "execution": {
          "iopub.execute_input": "2023-09-11T18:38:31.728408Z",
          "iopub.status.busy": "2023-09-11T18:38:31.728079Z",
          "iopub.status.idle": "2023-09-11T18:38:33.007026Z",
          "shell.execute_reply": "2023-09-11T18:38:33.006225Z"
        },
        "papermill": {
          "duration": 1.290014,
          "end_time": "2023-09-11T18:38:33.009444",
          "exception": false,
          "start_time": "2023-09-11T18:38:31.719430",
          "status": "completed"
        },
        "tags": [],
        "id": "06c9de64",
        "outputId": "06fd6e50-2d4d-4570-d7a2-a9ca9a0f9cfe"
      },
      "outputs": [
        {
          "name": "stdout",
          "output_type": "stream",
          "text": [
            "/kaggle/input/quora-question-pairs/train.csv.zip\n",
            "/kaggle/input/quora-question-pairs/sample_submission.csv.zip\n",
            "/kaggle/input/quora-question-pairs/test.csv\n",
            "/kaggle/input/quora-question-pairs/test.csv.zip\n"
          ]
        }
      ],
      "source": [
        "import numpy as np\n",
        "import pandas as pd\n",
        "\n",
        "import os\n",
        "for dirname, _, filenames in os.walk('/kaggle/input'):\n",
        "    for filename in filenames:\n",
        "        print(os.path.join(dirname, filename))"
      ]
    },
    {
      "cell_type": "code",
      "execution_count": null,
      "id": "babbc276",
      "metadata": {
        "execution": {
          "iopub.execute_input": "2023-09-11T18:38:33.022427Z",
          "iopub.status.busy": "2023-09-11T18:38:33.022063Z",
          "iopub.status.idle": "2023-09-11T18:38:49.912299Z",
          "shell.execute_reply": "2023-09-11T18:38:49.911324Z"
        },
        "papermill": {
          "duration": 16.899197,
          "end_time": "2023-09-11T18:38:49.914539",
          "exception": false,
          "start_time": "2023-09-11T18:38:33.015342",
          "status": "completed"
        },
        "tags": [],
        "id": "babbc276",
        "outputId": "3a846687-4bc0-486f-f1a3-eb64a0a5326e"
      },
      "outputs": [
        {
          "name": "stdout",
          "output_type": "stream",
          "text": [
            "Collecting transformers\r\n",
            "  Downloading transformers-4.33.1-py3-none-any.whl (7.6 MB)\r\n",
            "\u001b[2K     \u001b[90m━━━━━━━━━━━━━━━━━━━━━━━━━━━━━━━━━━━━━━━━\u001b[0m \u001b[32m7.6/7.6 MB\u001b[0m \u001b[31m46.3 MB/s\u001b[0m eta \u001b[36m0:00:00\u001b[0m\r\n",
            "\u001b[?25hCollecting safetensors>=0.3.1\r\n",
            "  Downloading safetensors-0.3.3-cp38-cp38-manylinux_2_17_x86_64.manylinux2014_x86_64.whl (1.3 MB)\r\n",
            "\u001b[2K     \u001b[90m━━━━━━━━━━━━━━━━━━━━━━━━━━━━━━━━━━━━━━━━\u001b[0m \u001b[32m1.3/1.3 MB\u001b[0m \u001b[31m51.4 MB/s\u001b[0m eta \u001b[36m0:00:00\u001b[0m\r\n",
            "\u001b[?25hCollecting tokenizers!=0.11.3,<0.14,>=0.11.1\r\n",
            "  Downloading tokenizers-0.13.3-cp38-cp38-manylinux_2_17_x86_64.manylinux2014_x86_64.whl (7.8 MB)\r\n",
            "\u001b[2K     \u001b[90m━━━━━━━━━━━━━━━━━━━━━━━━━━━━━━━━━━━━━━━━\u001b[0m \u001b[32m7.8/7.8 MB\u001b[0m \u001b[31m72.8 MB/s\u001b[0m eta \u001b[36m0:00:00\u001b[0m\r\n",
            "\u001b[?25hRequirement already satisfied: tqdm>=4.27 in /usr/local/lib/python3.8/site-packages (from transformers) (4.65.0)\r\n",
            "Collecting huggingface-hub<1.0,>=0.15.1\r\n",
            "  Downloading huggingface_hub-0.17.1-py3-none-any.whl (294 kB)\r\n",
            "\u001b[2K     \u001b[90m━━━━━━━━━━━━━━━━━━━━━━━━━━━━━━━━━━━━━━\u001b[0m \u001b[32m294.8/294.8 kB\u001b[0m \u001b[31m22.4 MB/s\u001b[0m eta \u001b[36m0:00:00\u001b[0m\r\n",
            "\u001b[?25hRequirement already satisfied: pyyaml>=5.1 in /usr/local/lib/python3.8/site-packages (from transformers) (6.0)\r\n",
            "Requirement already satisfied: packaging>=20.0 in /usr/local/lib/python3.8/site-packages (from transformers) (23.1)\r\n",
            "Requirement already satisfied: filelock in /usr/local/lib/python3.8/site-packages (from transformers) (3.12.2)\r\n",
            "Collecting regex!=2019.12.17\r\n",
            "  Downloading regex-2023.8.8-cp38-cp38-manylinux_2_17_x86_64.manylinux2014_x86_64.whl (774 kB)\r\n",
            "\u001b[2K     \u001b[90m━━━━━━━━━━━━━━━━━━━━━━━━━━━━━━━━━━━━━━\u001b[0m \u001b[32m774.3/774.3 kB\u001b[0m \u001b[31m39.9 MB/s\u001b[0m eta \u001b[36m0:00:00\u001b[0m\r\n",
            "\u001b[?25hRequirement already satisfied: requests in /usr/local/lib/python3.8/site-packages (from transformers) (2.31.0)\r\n",
            "Requirement already satisfied: numpy>=1.17 in /usr/local/lib/python3.8/site-packages (from transformers) (1.23.5)\r\n",
            "Collecting fsspec\r\n",
            "  Downloading fsspec-2023.9.0-py3-none-any.whl (173 kB)\r\n",
            "\u001b[2K     \u001b[90m━━━━━━━━━━━━━━━━━━━━━━━━━━━━━━━━━━━━━━\u001b[0m \u001b[32m173.2/173.2 kB\u001b[0m \u001b[31m13.5 MB/s\u001b[0m eta \u001b[36m0:00:00\u001b[0m\r\n",
            "\u001b[?25hRequirement already satisfied: typing-extensions>=3.7.4.3 in /usr/local/lib/python3.8/site-packages (from huggingface-hub<1.0,>=0.15.1->transformers) (4.7.1)\r\n",
            "Requirement already satisfied: idna<4,>=2.5 in /usr/local/lib/python3.8/site-packages (from requests->transformers) (3.4)\r\n",
            "Requirement already satisfied: certifi>=2017.4.17 in /usr/local/lib/python3.8/site-packages (from requests->transformers) (2023.5.7)\r\n",
            "Requirement already satisfied: charset-normalizer<4,>=2 in /usr/local/lib/python3.8/site-packages (from requests->transformers) (3.2.0)\r\n",
            "Requirement already satisfied: urllib3<3,>=1.21.1 in /usr/local/lib/python3.8/site-packages (from requests->transformers) (1.26.16)\r\n",
            "Installing collected packages: tokenizers, safetensors, regex, fsspec, huggingface-hub, transformers\r\n",
            "Successfully installed fsspec-2023.9.0 huggingface-hub-0.17.1 regex-2023.8.8 safetensors-0.3.3 tokenizers-0.13.3 transformers-4.33.1\r\n",
            "\u001b[33mWARNING: Running pip as the 'root' user can result in broken permissions and conflicting behaviour with the system package manager. It is recommended to use a virtual environment instead: https://pip.pypa.io/warnings/venv\u001b[0m\u001b[33m\r\n",
            "\u001b[0m\r\n",
            "\u001b[1m[\u001b[0m\u001b[34;49mnotice\u001b[0m\u001b[1;39;49m]\u001b[0m\u001b[39;49m A new release of pip is available: \u001b[0m\u001b[31;49m23.0.1\u001b[0m\u001b[39;49m -> \u001b[0m\u001b[32;49m23.2.1\u001b[0m\r\n",
            "\u001b[1m[\u001b[0m\u001b[34;49mnotice\u001b[0m\u001b[1;39;49m]\u001b[0m\u001b[39;49m To update, run: \u001b[0m\u001b[32;49mpip install --upgrade pip\u001b[0m\r\n",
            "Note: you may need to restart the kernel to use updated packages.\n"
          ]
        }
      ],
      "source": [
        "pip install transformers\n"
      ]
    },
    {
      "cell_type": "code",
      "execution_count": null,
      "id": "4e04bec2",
      "metadata": {
        "execution": {
          "iopub.execute_input": "2023-09-11T18:38:49.932451Z",
          "iopub.status.busy": "2023-09-11T18:38:49.932118Z",
          "iopub.status.idle": "2023-09-11T18:39:38.355712Z",
          "shell.execute_reply": "2023-09-11T18:39:38.354768Z"
        },
        "papermill": {
          "duration": 48.444908,
          "end_time": "2023-09-11T18:39:38.367646",
          "exception": false,
          "start_time": "2023-09-11T18:38:49.922738",
          "status": "completed"
        },
        "tags": [],
        "id": "4e04bec2",
        "outputId": "8259dcde-ffa5-4b03-ebbf-68321ac27d22"
      },
      "outputs": [
        {
          "name": "stderr",
          "output_type": "stream",
          "text": [
            "D0911 18:39:21.449976575      14 config.cc:119]                        gRPC EXPERIMENT tcp_frame_size_tuning               OFF (default:OFF)\n",
            "D0911 18:39:21.450003790      14 config.cc:119]                        gRPC EXPERIMENT tcp_rcv_lowat                       OFF (default:OFF)\n",
            "D0911 18:39:21.450008067      14 config.cc:119]                        gRPC EXPERIMENT peer_state_based_framing            OFF (default:OFF)\n",
            "D0911 18:39:21.450011290      14 config.cc:119]                        gRPC EXPERIMENT flow_control_fixes                  ON  (default:ON)\n",
            "D0911 18:39:21.450014276      14 config.cc:119]                        gRPC EXPERIMENT memory_pressure_controller          OFF (default:OFF)\n",
            "D0911 18:39:21.450017617      14 config.cc:119]                        gRPC EXPERIMENT unconstrained_max_quota_buffer_size OFF (default:OFF)\n",
            "D0911 18:39:21.450020707      14 config.cc:119]                        gRPC EXPERIMENT new_hpack_huffman_decoder           ON  (default:ON)\n",
            "D0911 18:39:21.450023730      14 config.cc:119]                        gRPC EXPERIMENT event_engine_client                 OFF (default:OFF)\n",
            "D0911 18:39:21.450026853      14 config.cc:119]                        gRPC EXPERIMENT monitoring_experiment               ON  (default:ON)\n",
            "D0911 18:39:21.450029904      14 config.cc:119]                        gRPC EXPERIMENT promise_based_client_call           OFF (default:OFF)\n",
            "D0911 18:39:21.450032927      14 config.cc:119]                        gRPC EXPERIMENT free_large_allocator                OFF (default:OFF)\n",
            "D0911 18:39:21.450035994      14 config.cc:119]                        gRPC EXPERIMENT promise_based_server_call           OFF (default:OFF)\n",
            "D0911 18:39:21.450039095      14 config.cc:119]                        gRPC EXPERIMENT transport_supplies_client_latency   OFF (default:OFF)\n",
            "D0911 18:39:21.450042136      14 config.cc:119]                        gRPC EXPERIMENT event_engine_listener               OFF (default:OFF)\n",
            "I0911 18:39:21.450282816      14 ev_epoll1_linux.cc:122]               grpc epoll fd: 59\n",
            "D0911 18:39:21.450296331      14 ev_posix.cc:144]                      Using polling engine: epoll1\n",
            "D0911 18:39:21.450347076      14 dns_resolver_ares.cc:822]             Using ares dns resolver\n",
            "D0911 18:39:21.450751791      14 lb_policy_registry.cc:46]             registering LB policy factory for \"priority_experimental\"\n",
            "D0911 18:39:21.450763647      14 lb_policy_registry.cc:46]             registering LB policy factory for \"outlier_detection_experimental\"\n",
            "D0911 18:39:21.450767474      14 lb_policy_registry.cc:46]             registering LB policy factory for \"weighted_target_experimental\"\n",
            "D0911 18:39:21.450770834      14 lb_policy_registry.cc:46]             registering LB policy factory for \"pick_first\"\n",
            "D0911 18:39:21.450774122      14 lb_policy_registry.cc:46]             registering LB policy factory for \"round_robin\"\n",
            "D0911 18:39:21.450777540      14 lb_policy_registry.cc:46]             registering LB policy factory for \"weighted_round_robin_experimental\"\n",
            "D0911 18:39:21.450793143      14 lb_policy_registry.cc:46]             registering LB policy factory for \"ring_hash_experimental\"\n",
            "D0911 18:39:21.450810779      14 lb_policy_registry.cc:46]             registering LB policy factory for \"grpclb\"\n",
            "D0911 18:39:21.450842084      14 lb_policy_registry.cc:46]             registering LB policy factory for \"rls_experimental\"\n",
            "D0911 18:39:21.450857178      14 lb_policy_registry.cc:46]             registering LB policy factory for \"xds_cluster_manager_experimental\"\n",
            "D0911 18:39:21.450861067      14 lb_policy_registry.cc:46]             registering LB policy factory for \"xds_cluster_impl_experimental\"\n",
            "D0911 18:39:21.450870538      14 lb_policy_registry.cc:46]             registering LB policy factory for \"cds_experimental\"\n",
            "D0911 18:39:21.450877593      14 lb_policy_registry.cc:46]             registering LB policy factory for \"xds_cluster_resolver_experimental\"\n",
            "D0911 18:39:21.450881336      14 lb_policy_registry.cc:46]             registering LB policy factory for \"xds_override_host_experimental\"\n",
            "D0911 18:39:21.450885049      14 lb_policy_registry.cc:46]             registering LB policy factory for \"xds_wrr_locality_experimental\"\n",
            "D0911 18:39:21.450889522      14 certificate_provider_registry.cc:35]  registering certificate provider factory for \"file_watcher\"\n",
            "I0911 18:39:21.454028830      14 socket_utils_common_posix.cc:408]     Disabling AF_INET6 sockets because ::1 is not available.\n",
            "I0911 18:39:21.481727394      14 socket_utils_common_posix.cc:337]     TCP_USER_TIMEOUT is available. TCP_USER_TIMEOUT will be used thereafter\n",
            "E0911 18:39:21.509118508      14 oauth2_credentials.cc:236]            oauth_fetch: UNKNOWN:C-ares status is not ARES_SUCCESS qtype=A name=metadata.google.internal. is_balancer=0: Domain name not found {grpc_status:2, created_time:\"2023-09-11T18:39:21.509100457+00:00\"}\n"
          ]
        },
        {
          "name": "stdout",
          "output_type": "stream",
          "text": [
            "1\n",
            "2\n",
            "INFO:tensorflow:Deallocate tpu buffers before initializing tpu system.\n",
            "INFO:tensorflow:Initializing the TPU system: local\n",
            "INFO:tensorflow:Finished initializing TPU system.\n"
          ]
        },
        {
          "name": "stderr",
          "output_type": "stream",
          "text": [
            "WARNING:absl:`tf.distribute.experimental.TPUStrategy` is deprecated, please use  the non experimental symbol `tf.distribute.TPUStrategy` instead.\n"
          ]
        },
        {
          "name": "stdout",
          "output_type": "stream",
          "text": [
            "3\n",
            "INFO:tensorflow:Found TPU system:\n"
          ]
        },
        {
          "name": "stderr",
          "output_type": "stream",
          "text": [
            "INFO:tensorflow:Found TPU system:\n"
          ]
        },
        {
          "name": "stdout",
          "output_type": "stream",
          "text": [
            "INFO:tensorflow:*** Num TPU Cores: 8\n"
          ]
        },
        {
          "name": "stderr",
          "output_type": "stream",
          "text": [
            "INFO:tensorflow:*** Num TPU Cores: 8\n"
          ]
        },
        {
          "name": "stdout",
          "output_type": "stream",
          "text": [
            "INFO:tensorflow:*** Num TPU Workers: 1\n"
          ]
        },
        {
          "name": "stderr",
          "output_type": "stream",
          "text": [
            "INFO:tensorflow:*** Num TPU Workers: 1\n"
          ]
        },
        {
          "name": "stdout",
          "output_type": "stream",
          "text": [
            "INFO:tensorflow:*** Num TPU Cores Per Worker: 8\n"
          ]
        },
        {
          "name": "stderr",
          "output_type": "stream",
          "text": [
            "INFO:tensorflow:*** Num TPU Cores Per Worker: 8\n"
          ]
        },
        {
          "name": "stdout",
          "output_type": "stream",
          "text": [
            "INFO:tensorflow:*** Available Device: _DeviceAttributes(/job:localhost/replica:0/task:0/device:CPU:0, CPU, 0, 0)\n"
          ]
        },
        {
          "name": "stderr",
          "output_type": "stream",
          "text": [
            "INFO:tensorflow:*** Available Device: _DeviceAttributes(/job:localhost/replica:0/task:0/device:CPU:0, CPU, 0, 0)\n"
          ]
        },
        {
          "name": "stdout",
          "output_type": "stream",
          "text": [
            "INFO:tensorflow:*** Available Device: _DeviceAttributes(/job:localhost/replica:0/task:0/device:TPU:0, TPU, 0, 0)\n"
          ]
        },
        {
          "name": "stderr",
          "output_type": "stream",
          "text": [
            "INFO:tensorflow:*** Available Device: _DeviceAttributes(/job:localhost/replica:0/task:0/device:TPU:0, TPU, 0, 0)\n"
          ]
        },
        {
          "name": "stdout",
          "output_type": "stream",
          "text": [
            "INFO:tensorflow:*** Available Device: _DeviceAttributes(/job:localhost/replica:0/task:0/device:TPU:1, TPU, 0, 0)\n"
          ]
        },
        {
          "name": "stderr",
          "output_type": "stream",
          "text": [
            "INFO:tensorflow:*** Available Device: _DeviceAttributes(/job:localhost/replica:0/task:0/device:TPU:1, TPU, 0, 0)\n"
          ]
        },
        {
          "name": "stdout",
          "output_type": "stream",
          "text": [
            "INFO:tensorflow:*** Available Device: _DeviceAttributes(/job:localhost/replica:0/task:0/device:TPU:2, TPU, 0, 0)\n"
          ]
        },
        {
          "name": "stderr",
          "output_type": "stream",
          "text": [
            "INFO:tensorflow:*** Available Device: _DeviceAttributes(/job:localhost/replica:0/task:0/device:TPU:2, TPU, 0, 0)\n"
          ]
        },
        {
          "name": "stdout",
          "output_type": "stream",
          "text": [
            "INFO:tensorflow:*** Available Device: _DeviceAttributes(/job:localhost/replica:0/task:0/device:TPU:3, TPU, 0, 0)\n"
          ]
        },
        {
          "name": "stderr",
          "output_type": "stream",
          "text": [
            "INFO:tensorflow:*** Available Device: _DeviceAttributes(/job:localhost/replica:0/task:0/device:TPU:3, TPU, 0, 0)\n"
          ]
        },
        {
          "name": "stdout",
          "output_type": "stream",
          "text": [
            "INFO:tensorflow:*** Available Device: _DeviceAttributes(/job:localhost/replica:0/task:0/device:TPU:4, TPU, 0, 0)\n"
          ]
        },
        {
          "name": "stderr",
          "output_type": "stream",
          "text": [
            "INFO:tensorflow:*** Available Device: _DeviceAttributes(/job:localhost/replica:0/task:0/device:TPU:4, TPU, 0, 0)\n"
          ]
        },
        {
          "name": "stdout",
          "output_type": "stream",
          "text": [
            "INFO:tensorflow:*** Available Device: _DeviceAttributes(/job:localhost/replica:0/task:0/device:TPU:5, TPU, 0, 0)\n"
          ]
        },
        {
          "name": "stderr",
          "output_type": "stream",
          "text": [
            "INFO:tensorflow:*** Available Device: _DeviceAttributes(/job:localhost/replica:0/task:0/device:TPU:5, TPU, 0, 0)\n"
          ]
        },
        {
          "name": "stdout",
          "output_type": "stream",
          "text": [
            "INFO:tensorflow:*** Available Device: _DeviceAttributes(/job:localhost/replica:0/task:0/device:TPU:6, TPU, 0, 0)\n"
          ]
        },
        {
          "name": "stderr",
          "output_type": "stream",
          "text": [
            "INFO:tensorflow:*** Available Device: _DeviceAttributes(/job:localhost/replica:0/task:0/device:TPU:6, TPU, 0, 0)\n"
          ]
        },
        {
          "name": "stdout",
          "output_type": "stream",
          "text": [
            "INFO:tensorflow:*** Available Device: _DeviceAttributes(/job:localhost/replica:0/task:0/device:TPU:7, TPU, 0, 0)\n"
          ]
        },
        {
          "name": "stderr",
          "output_type": "stream",
          "text": [
            "INFO:tensorflow:*** Available Device: _DeviceAttributes(/job:localhost/replica:0/task:0/device:TPU:7, TPU, 0, 0)\n"
          ]
        },
        {
          "name": "stdout",
          "output_type": "stream",
          "text": [
            "INFO:tensorflow:*** Available Device: _DeviceAttributes(/job:localhost/replica:0/task:0/device:TPU_SYSTEM:0, TPU_SYSTEM, 0, 0)\n"
          ]
        },
        {
          "name": "stderr",
          "output_type": "stream",
          "text": [
            "INFO:tensorflow:*** Available Device: _DeviceAttributes(/job:localhost/replica:0/task:0/device:TPU_SYSTEM:0, TPU_SYSTEM, 0, 0)\n"
          ]
        },
        {
          "name": "stdout",
          "output_type": "stream",
          "text": [
            "4\n",
            "Running on TPU: \n",
            "Batch Size: 32\n"
          ]
        }
      ],
      "source": [
        "import tensorflow as tf\n",
        "try:\n",
        "    tpu = tf.distribute.cluster_resolver.TPUClusterResolver()\n",
        "    print(1)\n",
        "    tf.config.experimental_connect_to_cluster(tpu)\n",
        "    print(2)\n",
        "    tf.tpu.experimental.initialize_tpu_system(tpu)\n",
        "    print(3)\n",
        "    strategy = tf.distribute.experimental.TPUStrategy(tpu)\n",
        "    print(4)\n",
        "    BATCH_SIZE = strategy.num_replicas_in_sync * 4\n",
        "    print(\"Running on TPU:\", tpu.master())\n",
        "    print(f\"Batch Size: {BATCH_SIZE}\")\n",
        "\n",
        "except ValueError:\n",
        "    strategy = tf.distribute.get_strategy()\n",
        "    BATCH_SIZE = 32\n",
        "    print(f\"Running on {strategy.num_replicas_in_sync} replicas\")\n",
        "    print(f\"Batch Size: {BATCH_SIZE}\")\n"
      ]
    },
    {
      "cell_type": "code",
      "execution_count": null,
      "id": "5710b147",
      "metadata": {
        "execution": {
          "iopub.execute_input": "2023-09-11T18:39:38.391141Z",
          "iopub.status.busy": "2023-09-11T18:39:38.390812Z",
          "iopub.status.idle": "2023-09-11T18:39:49.083460Z",
          "shell.execute_reply": "2023-09-11T18:39:49.082362Z"
        },
        "papermill": {
          "duration": 10.707181,
          "end_time": "2023-09-11T18:39:49.086062",
          "exception": false,
          "start_time": "2023-09-11T18:39:38.378881",
          "status": "completed"
        },
        "tags": [],
        "id": "5710b147"
      },
      "outputs": [],
      "source": [
        "import pandas as pd\n",
        "test=pd.read_csv(\"/kaggle/input/quora-question-pairs/test.csv\")\n",
        "train=pd.read_csv(\"/kaggle/input/quora-question-pairs/train.csv.zip\")"
      ]
    },
    {
      "cell_type": "code",
      "execution_count": null,
      "id": "62e7ee70",
      "metadata": {
        "execution": {
          "iopub.execute_input": "2023-09-11T18:39:49.110080Z",
          "iopub.status.busy": "2023-09-11T18:39:49.109745Z",
          "iopub.status.idle": "2023-09-11T18:39:49.137689Z",
          "shell.execute_reply": "2023-09-11T18:39:49.136754Z"
        },
        "papermill": {
          "duration": 0.042607,
          "end_time": "2023-09-11T18:39:49.139864",
          "exception": false,
          "start_time": "2023-09-11T18:39:49.097257",
          "status": "completed"
        },
        "tags": [],
        "id": "62e7ee70"
      },
      "outputs": [],
      "source": [
        "import re\n",
        "from string import punctuation\n",
        "def clean_dataframe_train(train):\n",
        "  def text_to_wordlist(text):\n",
        "      text = re.sub(r\"[^A-Za-z0-9]\", \" \", text)\n",
        "      text = re.sub(r\"what's\", \"\", text)\n",
        "      text = re.sub(r\"What's\", \"\", text)\n",
        "      text = re.sub(r\"\\'s\", \" \", text)\n",
        "      text = re.sub(r\"\\'ve\", \" have \", text)\n",
        "      text = re.sub(r\"can't\", \"cannot \", text)\n",
        "      text = re.sub(r\"n't\", \" not \", text)\n",
        "      text = re.sub(r\"I'm\", \"I am\", text)\n",
        "      text = re.sub(r\" m \", \" am \", text)\n",
        "      text = re.sub(r\"\\'re\", \" are \", text)\n",
        "      text = re.sub(r\"\\'d\", \" would \", text)\n",
        "      text = re.sub(r\"\\'ll\", \" will \", text)\n",
        "      text = re.sub(r\"60k\", \" 60000 \", text)\n",
        "      text = re.sub(r\" e g \", \" eg \", text)\n",
        "      text = re.sub(r\" b g \", \" bg \", text)\n",
        "      text = re.sub(r\"\\0s\", \"0\", text)\n",
        "      text = re.sub(r\" 9 11 \", \"911\", text)\n",
        "      text = re.sub(r\"e-mail\", \"email\", text)\n",
        "      text = re.sub(r\"\\s{2,}\",\" \",text)\n",
        "      text = re.sub(r\"quikly\", \"quickly\", text)\n",
        "      text = re.sub(r\" usa \", \" America \", text)\n",
        "      text = re.sub(r\" USA \", \" America \", text)\n",
        "      text = re.sub(r\" u s \", \" America \", text)\n",
        "      text = re.sub(r\" uk \", \" England \", text)\n",
        "      text = re.sub(r\" UK \", \" England \", text)\n",
        "      text = re.sub(r\"india\", \"India\", text)\n",
        "      text = re.sub(r\"switzerland\", \"Switzerland\", text)\n",
        "      text = re.sub(r\"china\", \"China\", text)\n",
        "      text = re.sub(r\"chinese\", \"Chinese\", text)\n",
        "      text = re.sub(r\"imrovement\", \"improvement\", text)\n",
        "      text = re.sub(r\"intially\", \"initially\", text)\n",
        "      text = re.sub(r\"quora\", \"Quora\", text)\n",
        "      text = re.sub(r\" dms \", \"direct messages \", text)\n",
        "      text = re.sub(r\"demonitization\", \"demonetization\", text)\n",
        "      text = re.sub(r\"actived\", \"active\", text)\n",
        "      text = re.sub(r\"kms\", \" kilometers \", text)\n",
        "      text = re.sub(r\"KMs\", \" kilometers \", text)\n",
        "      text = re.sub(r\" cs \", \" computer science \", text)\n",
        "      text = re.sub(r\" upvotes \", \" up votes \", text)\n",
        "      text = re.sub(r\" iPhone \", \" phone \", text)\n",
        "      text = re.sub(r\"\\0rs \", \" rs \", text)\n",
        "      text = re.sub(r\"calender\", \"calendar\", text)\n",
        "      text = re.sub(r\"ios\", \"operating system\", text)\n",
        "      text = re.sub(r\"gps\",\"GPS\",text)\n",
        "      text = re.sub(r\"gst\",\"GST\", text)\n",
        "      text = re.sub(r\"programing\", \"programming\", text)\n",
        "      text = re.sub(r\"bestfriend\", \"best friend\", text)\n",
        "      text = re.sub(r\"dna\", \"DNA\", text)\n",
        "      text = re.sub(r\"III\", \"3\", text)\n",
        "      text = re.sub(r\"the US\", \"America\", text)\n",
        "      text = re.sub(r\"Astrology\", \"astrology\", text)\n",
        "      text = re.sub(r\"Method\", \"method\", text)\n",
        "      text = re.sub(r\"banglore\", \"Banglore\", text)\n",
        "      text = re.sub(r\" J K \", \" JK \", text)\n",
        "      text = ''.join([c for c in text if c not in punctuation])\n",
        "      return text\n",
        "  def process_questions(question_list, questions, question_list_name, dataframe):\n",
        "      for question in questions:\n",
        "        question_list.append(text_to_wordlist(str(question)))\n",
        "        if len(question_list) % 100000 == 0:\n",
        "          progress = len(question_list)/len(dataframe) * 100\n",
        "          print(\"{} is {}% complete.\".format(question_list_name, round(progress, 1)))\n",
        "\n",
        "  print(\"1st inside\")\n",
        "  train_question1 = []\n",
        "  process_questions(train_question1, train.question1, 'train_question1', train)\n",
        "\n",
        "  train_question2 = []\n",
        "  process_questions(train_question2, train.question2, 'train_question2', train)\n",
        "\n",
        "  train[\"question1\"] = train_question1\n",
        "  train[\"question2\"] = train_question2\n",
        "\n",
        "  return train"
      ]
    },
    {
      "cell_type": "code",
      "execution_count": null,
      "id": "a2757865",
      "metadata": {
        "execution": {
          "iopub.execute_input": "2023-09-11T18:39:49.164422Z",
          "iopub.status.busy": "2023-09-11T18:39:49.164088Z",
          "iopub.status.idle": "2023-09-11T18:48:45.159769Z",
          "shell.execute_reply": "2023-09-11T18:48:45.158601Z"
        },
        "papermill": {
          "duration": 536.011761,
          "end_time": "2023-09-11T18:48:45.162768",
          "exception": false,
          "start_time": "2023-09-11T18:39:49.151007",
          "status": "completed"
        },
        "tags": [],
        "id": "a2757865",
        "outputId": "2f2d5dbe-ec41-48bd-86ed-859a7ea15d7f"
      },
      "outputs": [
        {
          "name": "stdout",
          "output_type": "stream",
          "text": [
            "1st inside\n",
            "train_question1 is 24.7% complete.\n",
            "train_question1 is 49.5% complete.\n",
            "train_question1 is 74.2% complete.\n",
            "train_question1 is 98.9% complete.\n",
            "train_question2 is 24.7% complete.\n",
            "train_question2 is 49.5% complete.\n",
            "train_question2 is 74.2% complete.\n",
            "train_question2 is 98.9% complete.\n",
            "1st inside\n",
            "train_question1 is 4.3% complete.\n",
            "train_question1 is 8.5% complete.\n",
            "train_question1 is 12.8% complete.\n",
            "train_question1 is 17.1% complete.\n",
            "train_question1 is 21.3% complete.\n",
            "train_question1 is 25.6% complete.\n",
            "train_question1 is 29.8% complete.\n",
            "train_question1 is 34.1% complete.\n",
            "train_question1 is 38.4% complete.\n",
            "train_question1 is 42.6% complete.\n",
            "train_question1 is 46.9% complete.\n",
            "train_question1 is 51.2% complete.\n",
            "train_question1 is 55.4% complete.\n",
            "train_question1 is 59.7% complete.\n",
            "train_question1 is 63.9% complete.\n",
            "train_question1 is 68.2% complete.\n",
            "train_question1 is 72.5% complete.\n",
            "train_question1 is 76.7% complete.\n",
            "train_question1 is 81.0% complete.\n",
            "train_question1 is 85.3% complete.\n",
            "train_question1 is 89.5% complete.\n",
            "train_question1 is 93.8% complete.\n",
            "train_question1 is 98.0% complete.\n",
            "train_question2 is 4.3% complete.\n",
            "train_question2 is 8.5% complete.\n",
            "train_question2 is 12.8% complete.\n",
            "train_question2 is 17.1% complete.\n",
            "train_question2 is 21.3% complete.\n",
            "train_question2 is 25.6% complete.\n",
            "train_question2 is 29.8% complete.\n",
            "train_question2 is 34.1% complete.\n",
            "train_question2 is 38.4% complete.\n",
            "train_question2 is 42.6% complete.\n",
            "train_question2 is 46.9% complete.\n",
            "train_question2 is 51.2% complete.\n",
            "train_question2 is 55.4% complete.\n",
            "train_question2 is 59.7% complete.\n",
            "train_question2 is 63.9% complete.\n",
            "train_question2 is 68.2% complete.\n",
            "train_question2 is 72.5% complete.\n",
            "train_question2 is 76.7% complete.\n",
            "train_question2 is 81.0% complete.\n",
            "train_question2 is 85.3% complete.\n",
            "train_question2 is 89.5% complete.\n",
            "train_question2 is 93.8% complete.\n",
            "train_question2 is 98.0% complete.\n"
          ]
        }
      ],
      "source": [
        "train=clean_dataframe_train(train)\n",
        "test=clean_dataframe_train(test)"
      ]
    },
    {
      "cell_type": "code",
      "execution_count": null,
      "id": "596bc12e",
      "metadata": {
        "execution": {
          "iopub.execute_input": "2023-09-11T18:48:45.198789Z",
          "iopub.status.busy": "2023-09-11T18:48:45.198399Z",
          "iopub.status.idle": "2023-09-11T18:48:45.220577Z",
          "shell.execute_reply": "2023-09-11T18:48:45.219498Z"
        },
        "papermill": {
          "duration": 0.043959,
          "end_time": "2023-09-11T18:48:45.222840",
          "exception": false,
          "start_time": "2023-09-11T18:48:45.178881",
          "status": "completed"
        },
        "tags": [],
        "id": "596bc12e",
        "outputId": "9bf49706-7e4a-44cf-eb18-4ad9076346ee"
      },
      "outputs": [
        {
          "data": {
            "text/html": [
              "<div>\n",
              "<style scoped>\n",
              "    .dataframe tbody tr th:only-of-type {\n",
              "        vertical-align: middle;\n",
              "    }\n",
              "\n",
              "    .dataframe tbody tr th {\n",
              "        vertical-align: top;\n",
              "    }\n",
              "\n",
              "    .dataframe thead th {\n",
              "        text-align: right;\n",
              "    }\n",
              "</style>\n",
              "<table border=\"1\" class=\"dataframe\">\n",
              "  <thead>\n",
              "    <tr style=\"text-align: right;\">\n",
              "      <th></th>\n",
              "      <th>id</th>\n",
              "      <th>qid1</th>\n",
              "      <th>qid2</th>\n",
              "      <th>question1</th>\n",
              "      <th>question2</th>\n",
              "      <th>is_duplicate</th>\n",
              "    </tr>\n",
              "  </thead>\n",
              "  <tbody>\n",
              "    <tr>\n",
              "      <th>0</th>\n",
              "      <td>0</td>\n",
              "      <td>1</td>\n",
              "      <td>2</td>\n",
              "      <td>What is the step by step guide to invest in sh...</td>\n",
              "      <td>What is the step by step guide to invest in sh...</td>\n",
              "      <td>0</td>\n",
              "    </tr>\n",
              "    <tr>\n",
              "      <th>1</th>\n",
              "      <td>1</td>\n",
              "      <td>3</td>\n",
              "      <td>4</td>\n",
              "      <td>What is the story of Kohinoor Koh i Noor Diamond</td>\n",
              "      <td>What would happen if the Indian government sto...</td>\n",
              "      <td>0</td>\n",
              "    </tr>\n",
              "    <tr>\n",
              "      <th>2</th>\n",
              "      <td>2</td>\n",
              "      <td>5</td>\n",
              "      <td>6</td>\n",
              "      <td>How can I increase the speed of my internet co...</td>\n",
              "      <td>How can Internet speed be increased by hacking...</td>\n",
              "      <td>0</td>\n",
              "    </tr>\n",
              "    <tr>\n",
              "      <th>3</th>\n",
              "      <td>3</td>\n",
              "      <td>7</td>\n",
              "      <td>8</td>\n",
              "      <td>Why am I mentally very lonely How can I solve it</td>\n",
              "      <td>Find the remainder when math 23 24 math is div...</td>\n",
              "      <td>0</td>\n",
              "    </tr>\n",
              "    <tr>\n",
              "      <th>4</th>\n",
              "      <td>4</td>\n",
              "      <td>9</td>\n",
              "      <td>10</td>\n",
              "      <td>Which one dissolve in water quickly sugar salt...</td>\n",
              "      <td>Which fish would survive in salt water</td>\n",
              "      <td>0</td>\n",
              "    </tr>\n",
              "    <tr>\n",
              "      <th>...</th>\n",
              "      <td>...</td>\n",
              "      <td>...</td>\n",
              "      <td>...</td>\n",
              "      <td>...</td>\n",
              "      <td>...</td>\n",
              "      <td>...</td>\n",
              "    </tr>\n",
              "    <tr>\n",
              "      <th>404285</th>\n",
              "      <td>404285</td>\n",
              "      <td>433578</td>\n",
              "      <td>379845</td>\n",
              "      <td>How many keywords are there in the Racket prog...</td>\n",
              "      <td>How many keywords are there in PERL Programmin...</td>\n",
              "      <td>0</td>\n",
              "    </tr>\n",
              "    <tr>\n",
              "      <th>404286</th>\n",
              "      <td>404286</td>\n",
              "      <td>18840</td>\n",
              "      <td>155606</td>\n",
              "      <td>Do you believe there is life after death</td>\n",
              "      <td>Is it true that there is life after death</td>\n",
              "      <td>1</td>\n",
              "    </tr>\n",
              "    <tr>\n",
              "      <th>404287</th>\n",
              "      <td>404287</td>\n",
              "      <td>537928</td>\n",
              "      <td>537929</td>\n",
              "      <td>What is one coin</td>\n",
              "      <td>What s this coin</td>\n",
              "      <td>0</td>\n",
              "    </tr>\n",
              "    <tr>\n",
              "      <th>404288</th>\n",
              "      <td>404288</td>\n",
              "      <td>537930</td>\n",
              "      <td>537931</td>\n",
              "      <td>What is the approx annual cost of living while...</td>\n",
              "      <td>I am having little hairfall problem but I want...</td>\n",
              "      <td>0</td>\n",
              "    </tr>\n",
              "    <tr>\n",
              "      <th>404289</th>\n",
              "      <td>404289</td>\n",
              "      <td>537932</td>\n",
              "      <td>537933</td>\n",
              "      <td>What is like to have sex with cousin</td>\n",
              "      <td>What is it like to have sex with your cousin</td>\n",
              "      <td>0</td>\n",
              "    </tr>\n",
              "  </tbody>\n",
              "</table>\n",
              "<p>404290 rows × 6 columns</p>\n",
              "</div>"
            ],
            "text/plain": [
              "            id    qid1    qid2  \\\n",
              "0            0       1       2   \n",
              "1            1       3       4   \n",
              "2            2       5       6   \n",
              "3            3       7       8   \n",
              "4            4       9      10   \n",
              "...        ...     ...     ...   \n",
              "404285  404285  433578  379845   \n",
              "404286  404286   18840  155606   \n",
              "404287  404287  537928  537929   \n",
              "404288  404288  537930  537931   \n",
              "404289  404289  537932  537933   \n",
              "\n",
              "                                                question1  \\\n",
              "0       What is the step by step guide to invest in sh...   \n",
              "1       What is the story of Kohinoor Koh i Noor Diamond    \n",
              "2       How can I increase the speed of my internet co...   \n",
              "3       Why am I mentally very lonely How can I solve it    \n",
              "4       Which one dissolve in water quickly sugar salt...   \n",
              "...                                                   ...   \n",
              "404285  How many keywords are there in the Racket prog...   \n",
              "404286          Do you believe there is life after death    \n",
              "404287                                  What is one coin    \n",
              "404288  What is the approx annual cost of living while...   \n",
              "404289              What is like to have sex with cousin    \n",
              "\n",
              "                                                question2  is_duplicate  \n",
              "0       What is the step by step guide to invest in sh...             0  \n",
              "1       What would happen if the Indian government sto...             0  \n",
              "2       How can Internet speed be increased by hacking...             0  \n",
              "3       Find the remainder when math 23 24 math is div...             0  \n",
              "4                 Which fish would survive in salt water              0  \n",
              "...                                                   ...           ...  \n",
              "404285  How many keywords are there in PERL Programmin...             0  \n",
              "404286         Is it true that there is life after death              1  \n",
              "404287                                  What s this coin              0  \n",
              "404288  I am having little hairfall problem but I want...             0  \n",
              "404289      What is it like to have sex with your cousin              0  \n",
              "\n",
              "[404290 rows x 6 columns]"
            ]
          },
          "execution_count": 7,
          "metadata": {},
          "output_type": "execute_result"
        }
      ],
      "source": [
        "train"
      ]
    },
    {
      "cell_type": "code",
      "execution_count": null,
      "id": "eba94162",
      "metadata": {
        "execution": {
          "iopub.execute_input": "2023-09-11T18:48:45.256259Z",
          "iopub.status.busy": "2023-09-11T18:48:45.255972Z",
          "iopub.status.idle": "2023-09-11T18:49:06.520814Z",
          "shell.execute_reply": "2023-09-11T18:49:06.519710Z"
        },
        "papermill": {
          "duration": 21.284526,
          "end_time": "2023-09-11T18:49:06.523213",
          "exception": false,
          "start_time": "2023-09-11T18:48:45.238687",
          "status": "completed"
        },
        "tags": [],
        "id": "eba94162",
        "outputId": "e587f6f3-ddb1-4201-97f7-fb6d71f7a93e"
      },
      "outputs": [
        {
          "name": "stderr",
          "output_type": "stream",
          "text": [
            "/usr/local/lib/python3.8/site-packages/tqdm/auto.py:21: TqdmWarning: IProgress not found. Please update jupyter and ipywidgets. See https://ipywidgets.readthedocs.io/en/stable/user_install.html\n",
            "  from .autonotebook import tqdm as notebook_tqdm\n",
            "Downloading (…)okenizer_config.json: 100%|██████████| 28.0/28.0 [00:00<00:00, 3.74kB/s]\n",
            "Downloading (…)lve/main/config.json: 100%|██████████| 570/570 [00:00<00:00, 331kB/s]\n",
            "Downloading (…)solve/main/vocab.txt: 100%|██████████| 232k/232k [00:00<00:00, 5.21MB/s]\n",
            "Downloading (…)/main/tokenizer.json: 100%|██████████| 466k/466k [00:00<00:00, 7.92MB/s]\n"
          ]
        }
      ],
      "source": [
        "from transformers import AutoTokenizer,TFBertModel\n",
        "model_check='bert-base-uncased'\n",
        "tokenizer = AutoTokenizer.from_pretrained(model_check)\n",
        "def encode_text(text, tokenizer):\n",
        "    encoded = tokenizer.batch_encode_plus(\n",
        "        text,\n",
        "        add_special_tokens=True,\n",
        "        max_length=50,#gui code\n",
        "        padding='max_length',\n",
        "        truncation=True,\n",
        "        return_attention_mask=True,\n",
        "        return_tensors=\"tf\",\n",
        "    )\n",
        "    input_ids = np.array(encoded[\"input_ids\"], dtype=\"int32\")\n",
        "    attention_masks = np.array(encoded[\"attention_mask\"], dtype=\"int32\")\n",
        "\n",
        "    return {\n",
        "        \"input_ids\": input_ids,\n",
        "        \"attention_masks\": attention_masks\n",
        "    }"
      ]
    },
    {
      "cell_type": "code",
      "execution_count": null,
      "id": "3efc096a",
      "metadata": {
        "execution": {
          "iopub.execute_input": "2023-09-11T18:49:06.559559Z",
          "iopub.status.busy": "2023-09-11T18:49:06.559027Z",
          "iopub.status.idle": "2023-09-11T18:49:41.920715Z",
          "shell.execute_reply": "2023-09-11T18:49:41.919153Z"
        },
        "papermill": {
          "duration": 35.382729,
          "end_time": "2023-09-11T18:49:41.923578",
          "exception": false,
          "start_time": "2023-09-11T18:49:06.540849",
          "status": "completed"
        },
        "tags": [],
        "id": "3efc096a"
      },
      "outputs": [],
      "source": [
        "import numpy as np\n",
        "train = train.sample(400000)\n",
        "train1 = train.iloc[:int(400000*0.80),:]\n",
        "val = train.iloc[int(400000*0.80):,:]\n",
        "X1_train = encode_text(train1['question1'].tolist(), tokenizer)\n",
        "X2_train = encode_text(train1['question2'].tolist(), tokenizer)\n",
        "X1_val = encode_text(val['question1'].tolist(), tokenizer)\n",
        "X2_val = encode_text(val['question2'].tolist(), tokenizer)\n",
        "y_train = train1['is_duplicate'].values\n",
        "y_val = val['is_duplicate'].values"
      ]
    },
    {
      "cell_type": "code",
      "execution_count": null,
      "id": "bd93a526",
      "metadata": {
        "execution": {
          "iopub.execute_input": "2023-09-11T18:49:41.961208Z",
          "iopub.status.busy": "2023-09-11T18:49:41.960884Z",
          "iopub.status.idle": "2023-09-11T18:50:09.746862Z",
          "shell.execute_reply": "2023-09-11T18:50:09.745438Z"
        },
        "papermill": {
          "duration": 27.80769,
          "end_time": "2023-09-11T18:50:09.749663",
          "exception": false,
          "start_time": "2023-09-11T18:49:41.941973",
          "status": "completed"
        },
        "tags": [],
        "id": "bd93a526",
        "outputId": "8f69ef2a-cfa0-470f-f7da-ba9eee35f506"
      },
      "outputs": [
        {
          "name": "stderr",
          "output_type": "stream",
          "text": [
            "Downloading model.safetensors: 100%|██████████| 440M/440M [00:03<00:00, 126MB/s]\n",
            "Some weights of the PyTorch model were not used when initializing the TF 2.0 model TFBertModel: ['cls.predictions.bias', 'cls.seq_relationship.bias', 'cls.predictions.transform.dense.bias', 'cls.predictions.transform.dense.weight', 'cls.predictions.transform.LayerNorm.weight', 'cls.predictions.transform.LayerNorm.bias', 'cls.seq_relationship.weight']\n",
            "- This IS expected if you are initializing TFBertModel from a PyTorch model trained on another task or with another architecture (e.g. initializing a TFBertForSequenceClassification model from a BertForPreTraining model).\n",
            "- This IS NOT expected if you are initializing TFBertModel from a PyTorch model that you expect to be exactly identical (e.g. initializing a TFBertForSequenceClassification model from a BertForSequenceClassification model).\n",
            "All the weights of TFBertModel were initialized from the PyTorch model.\n",
            "If your task is similar to the task the model of the checkpoint was trained on, you can already use TFBertModel for predictions without further training.\n"
          ]
        }
      ],
      "source": [
        "import tensorflow.keras.backend as K\n",
        "from tensorflow.keras.layers import Input,GlobalAveragePooling1D,Dense\n",
        "def euclidean_distance(featsA,featsB):\n",
        "    sumSquared = K.sum(K.square(featsA - featsB), axis=1, keepdims=True)\n",
        "    return K.sqrt(K.maximum(sumSquared, K.epsilon()))\n",
        "from tensorflow.keras.models import Model\n",
        "import tensorflow as tf\n",
        "with strategy.scope():\n",
        "    transformer_model = TFBertModel.from_pretrained(model_check)\n",
        "\n",
        "    input_ids_in1 = Input(shape=(None,),name='input_ids1', dtype='int32')\n",
        "    input_masks_in1 = Input(shape=(None,), name='attention_mask1', dtype='int32')\n",
        "    input_ids_in2 = Input(shape=(None,),name='input_ids2', dtype='int32')\n",
        "    input_masks_in2 = Input(shape=(None,), name='attention_mask2', dtype='int32')\n",
        "\n",
        "    embedding_layer1 = transformer_model(input_ids_in1, attention_mask=input_masks_in1).last_hidden_state\n",
        "    embedding_layer2 = transformer_model(input_ids_in2, attention_mask=input_masks_in2).last_hidden_state\n",
        "\n",
        "    embedding1 = GlobalAveragePooling1D()(embedding_layer1)\n",
        "    embedding2 = GlobalAveragePooling1D()(embedding_layer2)\n",
        "    e_dist = euclidean_distance(embedding1,embedding2)\n",
        "\n",
        "    x = Dense(512, activation='relu')(e_dist)\n",
        "    output = Dense(1, activation='sigmoid')(x)\n",
        "\n",
        "    model = Model(inputs=[input_ids_in1, input_masks_in1, input_ids_in2, input_masks_in2], outputs = output)\n",
        "    model.compile(loss='binary_crossentropy',optimizer=tf.keras.optimizers.Adam(learning_rate=0.00001),metrics='accuracy')"
      ]
    },
    {
      "cell_type": "code",
      "execution_count": null,
      "id": "27ba3bd2",
      "metadata": {
        "execution": {
          "iopub.execute_input": "2023-09-11T18:50:09.791906Z",
          "iopub.status.busy": "2023-09-11T18:50:09.791504Z",
          "iopub.status.idle": "2023-09-11T18:50:09.806606Z",
          "shell.execute_reply": "2023-09-11T18:50:09.805367Z"
        },
        "papermill": {
          "duration": 0.039076,
          "end_time": "2023-09-11T18:50:09.808645",
          "exception": false,
          "start_time": "2023-09-11T18:50:09.769569",
          "status": "completed"
        },
        "tags": [],
        "id": "27ba3bd2"
      },
      "outputs": [],
      "source": [
        "for layer in model.layers[:5]:\n",
        "    layer.trainable = False"
      ]
    },
    {
      "cell_type": "code",
      "execution_count": null,
      "id": "dbed4de5",
      "metadata": {
        "execution": {
          "iopub.execute_input": "2023-09-11T18:50:09.851459Z",
          "iopub.status.busy": "2023-09-11T18:50:09.851091Z",
          "iopub.status.idle": "2023-09-11T19:46:23.399848Z",
          "shell.execute_reply": "2023-09-11T19:46:23.398474Z"
        },
        "papermill": {
          "duration": 3378.351281,
          "end_time": "2023-09-11T19:46:28.180406",
          "exception": false,
          "start_time": "2023-09-11T18:50:09.829125",
          "status": "completed"
        },
        "tags": [],
        "id": "dbed4de5",
        "outputId": "bc76331d-b10f-452a-f568-bc608f8418c8"
      },
      "outputs": [
        {
          "name": "stdout",
          "output_type": "stream",
          "text": [
            "Epoch 1/5\n",
            "WARNING:tensorflow:Gradients do not exist for variables ['tf_bert_model/bert/pooler/dense/kernel:0', 'tf_bert_model/bert/pooler/dense/bias:0'] when minimizing the loss. If you're using `model.compile()`, did you forget to provide a `loss` argument?\n"
          ]
        },
        {
          "name": "stderr",
          "output_type": "stream",
          "text": [
            "WARNING:tensorflow:Gradients do not exist for variables ['tf_bert_model/bert/pooler/dense/kernel:0', 'tf_bert_model/bert/pooler/dense/bias:0'] when minimizing the loss. If you're using `model.compile()`, did you forget to provide a `loss` argument?\n"
          ]
        },
        {
          "name": "stdout",
          "output_type": "stream",
          "text": [
            "WARNING:tensorflow:Gradients do not exist for variables ['tf_bert_model/bert/pooler/dense/kernel:0', 'tf_bert_model/bert/pooler/dense/bias:0'] when minimizing the loss. If you're using `model.compile()`, did you forget to provide a `loss` argument?\n"
          ]
        },
        {
          "name": "stderr",
          "output_type": "stream",
          "text": [
            "WARNING:tensorflow:Gradients do not exist for variables ['tf_bert_model/bert/pooler/dense/kernel:0', 'tf_bert_model/bert/pooler/dense/bias:0'] when minimizing the loss. If you're using `model.compile()`, did you forget to provide a `loss` argument?\n"
          ]
        },
        {
          "name": "stdout",
          "output_type": "stream",
          "text": [
            "WARNING:tensorflow:Gradients do not exist for variables ['tf_bert_model/bert/pooler/dense/kernel:0', 'tf_bert_model/bert/pooler/dense/bias:0'] when minimizing the loss. If you're using `model.compile()`, did you forget to provide a `loss` argument?\n"
          ]
        },
        {
          "name": "stderr",
          "output_type": "stream",
          "text": [
            "WARNING:tensorflow:Gradients do not exist for variables ['tf_bert_model/bert/pooler/dense/kernel:0', 'tf_bert_model/bert/pooler/dense/bias:0'] when minimizing the loss. If you're using `model.compile()`, did you forget to provide a `loss` argument?\n"
          ]
        },
        {
          "name": "stdout",
          "output_type": "stream",
          "text": [
            "WARNING:tensorflow:Gradients do not exist for variables ['tf_bert_model/bert/pooler/dense/kernel:0', 'tf_bert_model/bert/pooler/dense/bias:0'] when minimizing the loss. If you're using `model.compile()`, did you forget to provide a `loss` argument?\n"
          ]
        },
        {
          "name": "stderr",
          "output_type": "stream",
          "text": [
            "WARNING:tensorflow:Gradients do not exist for variables ['tf_bert_model/bert/pooler/dense/kernel:0', 'tf_bert_model/bert/pooler/dense/bias:0'] when minimizing the loss. If you're using `model.compile()`, did you forget to provide a `loss` argument?\n",
            "2023-09-11 18:50:48.521801: E tensorflow/core/grappler/optimizers/meta_optimizer.cc:954] model_pruner failed: INVALID_ARGUMENT: Graph does not contain terminal node AssignAddVariableOp.\n",
            "2023-09-11 18:50:49.767044: E tensorflow/core/grappler/optimizers/meta_optimizer.cc:954] model_pruner failed: INVALID_ARGUMENT: Graph does not contain terminal node AssignAddVariableOp.\n"
          ]
        },
        {
          "name": "stdout",
          "output_type": "stream",
          "text": [
            "10000/10000 [==============================] - ETA: 0s - loss: 0.5678 - accuracy: 0.6711"
          ]
        },
        {
          "name": "stderr",
          "output_type": "stream",
          "text": [
            "2023-09-11 19:02:08.645022: E tensorflow/core/grappler/optimizers/meta_optimizer.cc:954] model_pruner failed: INVALID_ARGUMENT: Graph does not contain terminal node AssignAddVariableOp.\n",
            "2023-09-11 19:02:08.856495: E tensorflow/core/grappler/optimizers/meta_optimizer.cc:954] model_pruner failed: INVALID_ARGUMENT: Graph does not contain terminal node AssignAddVariableOp.\n"
          ]
        },
        {
          "name": "stdout",
          "output_type": "stream",
          "text": [
            "10000/10000 [==============================] - 760s 66ms/step - loss: 0.5678 - accuracy: 0.6711 - val_loss: 0.4829 - val_accuracy: 0.7789\n",
            "Epoch 2/5\n",
            "10000/10000 [==============================] - 651s 65ms/step - loss: 0.4323 - accuracy: 0.8036 - val_loss: 0.3709 - val_accuracy: 0.8443\n",
            "Epoch 3/5\n",
            "10000/10000 [==============================] - 649s 65ms/step - loss: 0.3285 - accuracy: 0.8613 - val_loss: 0.3106 - val_accuracy: 0.8685\n",
            "Epoch 4/5\n",
            "10000/10000 [==============================] - 655s 66ms/step - loss: 0.2529 - accuracy: 0.8989 - val_loss: 0.2929 - val_accuracy: 0.8780\n",
            "Epoch 5/5\n",
            "10000/10000 [==============================] - 656s 66ms/step - loss: 0.1942 - accuracy: 0.9262 - val_loss: 0.2914 - val_accuracy: 0.8823\n"
          ]
        }
      ],
      "source": [
        "history = model.fit((np.asarray(X1_train['input_ids']),np.asarray(X1_train['attention_masks']),np.asarray(X2_train['input_ids']),np.asarray(X2_train['attention_masks'])),\n",
        "                    y_train, batch_size=32, epochs=5,\n",
        "                    validation_data=((np.asarray(X1_val['input_ids']),np.asarray(X1_val['attention_masks']),np.asarray(X2_val['input_ids']),np.asarray(X2_val['attention_masks'])), y_val),\n",
        "                    )"
      ]
    },
    {
      "cell_type": "code",
      "source": [
        "eval_results = model.evaluate(\n",
        "    x=[np.asarray(X1_val['input_ids']), np.asarray(X1_val['attention_masks']), np.asarray(X2_val['input_ids']), np.asarray(X2_val['attention_masks'])],\n",
        "    y=y_val,\n",
        "    batch_size=32\n",
        ")\n",
        "\n",
        "loss, accuracy = eval_results\n",
        "\n",
        "print(f'Loss: {loss:.4f}')\n",
        "print(f'Accuracy: {accuracy:.4f}')"
      ],
      "metadata": {
        "colab": {
          "base_uri": "https://localhost:8080/"
        },
        "id": "7C3PtqEQRYjd",
        "outputId": "3efe8d15-4551-4e93-9462-26e7f00611f5"
      },
      "id": "7C3PtqEQRYjd",
      "execution_count": null,
      "outputs": [
        {
          "output_type": "stream",
          "name": "stdout",
          "text": [
            "Loss: 0.1942\n",
            "Accuracy: 0.9262\n"
          ]
        }
      ]
    },
    {
      "cell_type": "code",
      "execution_count": null,
      "id": "d6bcc250",
      "metadata": {
        "execution": {
          "iopub.execute_input": "2023-09-11T19:46:38.006282Z",
          "iopub.status.busy": "2023-09-11T19:46:38.005254Z",
          "iopub.status.idle": "2023-09-11T19:46:38.071517Z",
          "shell.execute_reply": "2023-09-11T19:46:38.070343Z"
        },
        "papermill": {
          "duration": 4.981558,
          "end_time": "2023-09-11T19:46:38.081174",
          "exception": false,
          "start_time": "2023-09-11T19:46:33.099616",
          "status": "completed"
        },
        "tags": [],
        "id": "d6bcc250",
        "outputId": "1e099228-6d47-4e2a-b7b1-c7240705569b"
      },
      "outputs": [
        {
          "name": "stdout",
          "output_type": "stream",
          "text": [
            "Model: \"model\"\n",
            "__________________________________________________________________________________________________\n",
            " Layer (type)                   Output Shape         Param #     Connected to                     \n",
            "==================================================================================================\n",
            " input_ids1 (InputLayer)        [(None, None)]       0           []                               \n",
            "                                                                                                  \n",
            " attention_mask1 (InputLayer)   [(None, None)]       0           []                               \n",
            "                                                                                                  \n",
            " input_ids2 (InputLayer)        [(None, None)]       0           []                               \n",
            "                                                                                                  \n",
            " attention_mask2 (InputLayer)   [(None, None)]       0           []                               \n",
            "                                                                                                  \n",
            " tf_bert_model (TFBertModel)    TFBaseModelOutputWi  109482240   ['input_ids1[0][0]',             \n",
            "                                thPoolingAndCrossAt               'attention_mask1[0][0]',        \n",
            "                                tentions(last_hidde               'input_ids2[0][0]',             \n",
            "                                n_state=(None, None               'attention_mask2[0][0]']        \n",
            "                                , 768),                                                           \n",
            "                                 pooler_output=(Non                                               \n",
            "                                e, 768),                                                          \n",
            "                                 past_key_values=No                                               \n",
            "                                ne, hidden_states=N                                               \n",
            "                                one, attentions=Non                                               \n",
            "                                e, cross_attentions                                               \n",
            "                                =None)                                                            \n",
            "                                                                                                  \n",
            " global_average_pooling1d (Glob  (None, 768)         0           ['tf_bert_model[0][0]']          \n",
            " alAveragePooling1D)                                                                              \n",
            "                                                                                                  \n",
            " global_average_pooling1d_1 (Gl  (None, 768)         0           ['tf_bert_model[1][0]']          \n",
            " obalAveragePooling1D)                                                                            \n",
            "                                                                                                  \n",
            " tf.math.subtract (TFOpLambda)  (None, 768)          0           ['global_average_pooling1d[0][0]'\n",
            "                                                                 , 'global_average_pooling1d_1[0][\n",
            "                                                                 0]']                             \n",
            "                                                                                                  \n",
            " tf.math.square (TFOpLambda)    (None, 768)          0           ['tf.math.subtract[0][0]']       \n",
            "                                                                                                  \n",
            " tf.math.reduce_sum (TFOpLambda  (None, 1)           0           ['tf.math.square[0][0]']         \n",
            " )                                                                                                \n",
            "                                                                                                  \n",
            " tf.math.maximum (TFOpLambda)   (None, 1)            0           ['tf.math.reduce_sum[0][0]']     \n",
            "                                                                                                  \n",
            " tf.math.maximum_1 (TFOpLambda)  (None, 1)           0           ['tf.math.maximum[0][0]']        \n",
            "                                                                                                  \n",
            " tf.math.sqrt (TFOpLambda)      (None, 1)            0           ['tf.math.maximum_1[0][0]']      \n",
            "                                                                                                  \n",
            " dense (Dense)                  (None, 512)          1024        ['tf.math.sqrt[0][0]']           \n",
            "                                                                                                  \n",
            " dense_1 (Dense)                (None, 1)            513         ['dense[0][0]']                  \n",
            "                                                                                                  \n",
            "==================================================================================================\n",
            "Total params: 109,483,777\n",
            "Trainable params: 1,537\n",
            "Non-trainable params: 109,482,240\n",
            "__________________________________________________________________________________________________\n"
          ]
        }
      ],
      "source": [
        "model.summary()"
      ]
    },
    {
      "cell_type": "code",
      "execution_count": null,
      "id": "da90eb4a",
      "metadata": {
        "execution": {
          "iopub.execute_input": "2023-09-11T19:46:47.739490Z",
          "iopub.status.busy": "2023-09-11T19:46:47.739055Z",
          "iopub.status.idle": "2023-09-11T19:46:48.827731Z",
          "shell.execute_reply": "2023-09-11T19:46:48.826448Z"
        },
        "papermill": {
          "duration": 5.899574,
          "end_time": "2023-09-11T19:46:48.830667",
          "exception": false,
          "start_time": "2023-09-11T19:46:42.931093",
          "status": "completed"
        },
        "tags": [],
        "id": "da90eb4a"
      },
      "outputs": [],
      "source": [
        "model.save_weights(\"bertnlp.h5\")"
      ]
    },
    {
      "cell_type": "code",
      "source": [
        "test"
      ],
      "metadata": {
        "colab": {
          "base_uri": "https://localhost:8080/",
          "height": 390
        },
        "id": "YmN3-aYsHiY9",
        "outputId": "a7f6c9b2-7191-4589-b86a-02070edca7da"
      },
      "id": "YmN3-aYsHiY9",
      "execution_count": null,
      "outputs": [
        {
          "output_type": "display_data",
          "data": {
            "text/plain": [
              "<PIL.Image.Image image mode=RGB size=1455x557>"
            ],
            "image/png": "[encoded data removed]"
          },
          "metadata": {}
        }
      ]
    },
    {
      "cell_type": "code",
      "source": [
        "import numpy as np\n",
        "from sklearn.metrics.pairwise import cosine_similarity\n",
        "from transformers import BertTokenizer, BertModel\n",
        "\n",
        "model_name = \"bertnlp.h5\"\n",
        "tokenizer = BertTokenizer.from_pretrained(model_name)\n",
        "model = BertModel.from_pretrained(model_name)\n",
        "\n",
        "def get_bert_embeddings(text):\n",
        "    tokens = tokenizer(text, padding=True, truncation=True, return_tensors='pt', max_length=128)\n",
        "    with torch.no_grad():\n",
        "        outputs = model(**tokens)\n",
        "    return outputs.last_hidden_state.mean(dim=1).squeeze().numpy()\n",
        "\n",
        "question1 = input(\"Enter the first question: \")\n",
        "question2 = input(\"Enter the second question: \")\n",
        "\n",
        "embedding1 = get_bert_embeddings(question1)\n",
        "embedding2 = get_bert_embeddings(question2)\n",
        "\n",
        "cosine_sim = cosine_similarity([embedding1], [embedding2])\n",
        "\n",
        "threshold = 0.8\n",
        "\n",
        "if cosine_sim > threshold:\n",
        "    print(\"These questions are similar.\")\n",
        "else:\n",
        "    print(\"These questions are dissimilar.\")"
      ],
      "metadata": {
        "colab": {
          "base_uri": "https://localhost:8080/"
        },
        "id": "PFTgFgHePqiY",
        "outputId": "cf298428-5fd0-47e6-9e30-1741f6e5b71c"
      },
      "id": "PFTgFgHePqiY",
      "execution_count": null,
      "outputs": [
        {
          "output_type": "stream",
          "name": "stdout",
          "text": [
            "Enter the first question: How do i do my taxes?\n",
            "Enter the second question: How can taxes be filed?\n",
            "These questions are similar.\n"
          ]
        }
      ]
    },
    {
      "cell_type": "code",
      "source": [
        "import numpy as np\n",
        "from sklearn.metrics.pairwise import cosine_similarity\n",
        "from transformers import BertTokenizer, BertModel\n",
        "import torch\n",
        "\n",
        "model_name = \"bertnlp.h5\"\n",
        "tokenizer = BertTokenizer.from_pretrained(model_name)\n",
        "model = BertModel.from_pretrained(model_name)\n",
        "\n",
        "def get_bert_embeddings(text):\n",
        "    tokens = tokenizer(text, padding=True, truncation=True, return_tensors='pt', max_length=128)\n",
        "    with torch.no_grad():\n",
        "        outputs = model(**tokens)\n",
        "    return outputs.last_hidden_state.mean(dim=1).squeeze().numpy()\n",
        "\n",
        "question1 = input(\"Enter the first question: \")\n",
        "question2 = input(\"Enter the second question: \")\n",
        "\n",
        "embedding1 = get_bert_embeddings(question1)\n",
        "embedding2 = get_bert_embeddings(question2)\n",
        "\n",
        "cosine_sim = cosine_similarity([embedding1], [embedding2])\n",
        "\n",
        "threshold = 0.8\n",
        "\n",
        "if cosine_sim > threshold:\n",
        "    print(\"These questions are similar.\")\n",
        "else:\n",
        "    print(\"These questions are dissimilar.\")"
      ],
      "metadata": {
        "colab": {
          "base_uri": "https://localhost:8080/"
        },
        "id": "8H7vxthCPzJ7",
        "outputId": "554be580-6508-4716-e629-47f953223eea"
      },
      "id": "8H7vxthCPzJ7",
      "execution_count": null,
      "outputs": [
        {
          "output_type": "stream",
          "name": "stdout",
          "text": [
            "Enter the first question: How to file taxes?\n",
            "Enter the second question: How to comb my hair?\n",
            "These questions are dissimilar.\n"
          ]
        }
      ]
    },
    {
      "cell_type": "code",
      "source": [
        "import numpy as np\n",
        "from sklearn.metrics.pairwise import cosine_similarity\n",
        "from transformers import BertTokenizer, BertModel\n",
        "import torch\n",
        "\n",
        "model_name = \"bertnlp.h5\"\n",
        "tokenizer = BertTokenizer.from_pretrained(model_name)\n",
        "model = BertModel.from_pretrained(model_name)\n",
        "\n",
        "def get_bert_embeddings(text):\n",
        "    tokens = tokenizer(text, padding=True, truncation=True, return_tensors='pt', max_length=128)\n",
        "    with torch.no_grad():\n",
        "        outputs = model(**tokens)\n",
        "    return outputs.last_hidden_state.mean(dim=1).squeeze().numpy()\n",
        "\n",
        "question1 = input(\"Enter the first question: \")\n",
        "question2 = input(\"Enter the second question: \")\n",
        "\n",
        "embedding1 = get_bert_embeddings(question1)\n",
        "embedding2 = get_bert_embeddings(question2)\n",
        "\n",
        "cosine_sim = cosine_similarity([embedding1], [embedding2])\n",
        "\n",
        "threshold = 0.8\n",
        "\n",
        "if cosine_sim > threshold:\n",
        "    print(\"These questions are similar.\")\n",
        "else:\n",
        "    print(\"These questions are dissimilar.\")"
      ],
      "metadata": {
        "colab": {
          "base_uri": "https://localhost:8080/"
        },
        "id": "g1UOKp3oQBNq",
        "outputId": "8efafa81-7ca6-4cae-900a-0f27d3aa7f2c"
      },
      "id": "g1UOKp3oQBNq",
      "execution_count": null,
      "outputs": [
        {
          "output_type": "stream",
          "name": "stdout",
          "text": [
            "Enter the first question: How to file taxes?\n",
            "Enter the second question: How old should one be to be eligible for filing taxes?\n",
            "These questions are dissimilar.\n"
          ]
        }
      ]
    },
    {
      "cell_type": "code",
      "source": [
        "import matplotlib.pyplot as plt\n",
        "\n",
        "\n",
        "# Plot training & validation accuracy values\n",
        "plt.figure(figsize=(12, 4))\n",
        "plt.subplot(1, 2, 1)\n",
        "plt.plot(model.history.history['accuracy'])\n",
        "plt.plot(model.history.history['val_accuracy'])\n",
        "plt.title('Model accuracy')\n",
        "plt.ylabel('Accuracy')\n",
        "plt.xlabel('Epoch')\n",
        "plt.legend(['Train', 'Validation'], loc='upper left')\n",
        "\n",
        "# Plot training & validation loss values\n",
        "plt.subplot(1, 2, 2)\n",
        "plt.plot(model.history.history['loss'])\n",
        "plt.plot(model.history.history['val_loss'])\n",
        "plt.title('Model loss')\n",
        "plt.ylabel('Loss')\n",
        "plt.xlabel('Epoch')\n",
        "plt.legend(['Train', 'Validation'], loc='upper left')\n",
        "\n",
        "plt.tight_layout()\n",
        "plt.show()\n"
      ],
      "metadata": {
        "colab": {
          "base_uri": "https://localhost:8080/",
          "height": 406
        },
        "id": "9rgFY0u8cH4_",
        "outputId": "6556d9a2-be62-4c38-c78e-b77f8a8b39af"
      },
      "id": "9rgFY0u8cH4_",
      "execution_count": 3,
      "outputs": [
        {
          "output_type": "display_data",
          "data": {
            "text/plain": [
              "<PIL.Image.Image image mode=RGB size=1198x389>"
            ],
            "image/png": "[encoded data removed]"
          },
          "metadata": {}
        }
      ]
    },
    {
      "cell_type": "code",
      "source": [],
      "metadata": {
        "id": "euYUiHV1cXzm"
      },
      "id": "euYUiHV1cXzm",
      "execution_count": null,
      "outputs": []
    }
  ],
  "metadata": {
    "kernelspec": {
      "display_name": "Python 3",
      "language": "python",
      "name": "python3"
    },
    "language_info": {
      "codemirror_mode": {
        "name": "ipython",
        "version": 3
      },
      "file_extension": ".py",
      "mimetype": "text/x-python",
      "name": "python",
      "nbconvert_exporter": "python",
      "pygments_lexer": "ipython3",
      "version": "3.8.17"
    },
    "papermill": {
      "default_parameters": {},
      "duration": 4111.122647,
      "end_time": "2023-09-11T19:47:00.176787",
      "environment_variables": {},
      "exception": null,
      "input_path": "__notebook__.ipynb",
      "output_path": "__notebook__.ipynb",
      "parameters": {},
      "start_time": "2023-09-11T18:38:29.054140",
      "version": "2.4.0"
    },
    "colab": {
      "provenance": []
    }
  },
  "nbformat": 4,
  "nbformat_minor": 5
}